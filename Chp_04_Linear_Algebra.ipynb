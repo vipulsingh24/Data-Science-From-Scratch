{
 "cells": [
  {
   "cell_type": "code",
   "execution_count": 1,
   "metadata": {},
   "outputs": [],
   "source": [
    "def vector_add(v, w):\n",
    "    \"\"\"add corresponding elements\"\"\"\n",
    "    return [v_i + w_i for v_i, w_i in zip(v, w)]\n",
    "\n",
    "def vector_subtract(v, w):\n",
    "    \"\"\"subtract corresponding elements\"\"\"\n",
    "    return [v_i - w_i for v_i, w_i in zip(v, w)]    "
   ]
  },
  {
   "cell_type": "code",
   "execution_count": 2,
   "metadata": {},
   "outputs": [
    {
     "name": "stdout",
     "output_type": "stream",
     "text": [
      "Vector Add : [5, 5, 5, 5]\n",
      "Vector Subtract : [-3, -1, 1, 3]\n"
     ]
    }
   ],
   "source": [
    "v = [1, 2, 3, 4]\n",
    "w = [4, 3, 2, 1]\n",
    "print('Vector Add :', vector_add(v, w))\n",
    "print('Vector Subtract :', vector_subtract(v, w))"
   ]
  },
  {
   "cell_type": "code",
   "execution_count": 3,
   "metadata": {},
   "outputs": [
    {
     "data": {
      "text/plain": [
       "[6, 6, 7]"
      ]
     },
     "execution_count": 3,
     "metadata": {},
     "output_type": "execute_result"
    }
   ],
   "source": [
    "def vector_sum(vectors):\n",
    "    \"\"\"sums all corresponding elements\"\"\"\n",
    "    result = vectors[0]\n",
    "    for vector in vectors[1:]:\n",
    "        result = vector_add(result, vector)\n",
    "    return result\n",
    "\n",
    "vectors = [[1, 1, 1], [2, 2, 2], [3, 3, 4]]\n",
    "vector_sum(vectors)"
   ]
  },
  {
   "cell_type": "code",
   "execution_count": 4,
   "metadata": {},
   "outputs": [
    {
     "data": {
      "text/plain": [
       "[6, 6, 7]"
      ]
     },
     "execution_count": 4,
     "metadata": {},
     "output_type": "execute_result"
    }
   ],
   "source": [
    "# Using higher-order functions\n",
    "from functools import reduce, partial\n",
    "\n",
    "def vector_sum(vectors):\n",
    "    return reduce(vector_add, vectors)\n",
    "\n",
    "vector_sum(vectors)"
   ]
  },
  {
   "cell_type": "code",
   "execution_count": 5,
   "metadata": {},
   "outputs": [
    {
     "data": {
      "text/plain": [
       "[4, 8, 12]"
      ]
     },
     "execution_count": 5,
     "metadata": {},
     "output_type": "execute_result"
    }
   ],
   "source": [
    "# Vector scalar maultiply\n",
    "def scalar_multiply(c, v):\n",
    "    \"\"\"c is a number, v is a vector\"\"\"\n",
    "    return [c * v_i for v_i in v]\n",
    "\n",
    "scalar_multiply(4, [1, 2, 3])"
   ]
  },
  {
   "cell_type": "code",
   "execution_count": 6,
   "metadata": {},
   "outputs": [
    {
     "data": {
      "text/plain": [
       "[2.5, 2.5, 2.5]"
      ]
     },
     "execution_count": 6,
     "metadata": {},
     "output_type": "execute_result"
    }
   ],
   "source": [
    "# Mean of a vector\n",
    "def vector_mean(vectors):\n",
    "    \"\"\"compute the mean of vectors\"\"\"\n",
    "    n = len(vectors)\n",
    "    return scalar_multiply(1 / n, vector_sum(vectors))\n",
    "\n",
    "vectors = [[1, 1, 1], [2, 2, 2], [3, 3, 3], [4, 4, 4]]\n",
    "vector_mean(vectors)"
   ]
  },
  {
   "cell_type": "code",
   "execution_count": 7,
   "metadata": {},
   "outputs": [
    {
     "data": {
      "text/plain": [
       "32"
      ]
     },
     "execution_count": 7,
     "metadata": {},
     "output_type": "execute_result"
    }
   ],
   "source": [
    "# Dot product\n",
    "# The dot product of two vectors is the sum of their componentwise products\n",
    "def dot(v, w):\n",
    "    \"\"\"v_1 * w_1 + v_2 * w_2 + ... + v_n * w_n\"\"\"\n",
    "    return sum(v_i * w_i for v_i, w_i in zip(v, w))\n",
    "\n",
    "v = [1, 2, 3]\n",
    "w = [4, 5, 6]\n",
    "dot(v, w) # 1*4 + 2*5 + 3*6\n",
    "\n",
    "# The dot product measures how far the vector v extends in the w direction"
   ]
  },
  {
   "cell_type": "code",
   "execution_count": 8,
   "metadata": {},
   "outputs": [],
   "source": [
    "# Vector sum of squares\n",
    "def sum_of_squares(v):\n",
    "    \"\"\"\n",
    "    v_1 * v_1 + ... + v_n * v_n\n",
    "    \"\"\"\n",
    "    return dot(v, v)"
   ]
  },
  {
   "cell_type": "code",
   "execution_count": 9,
   "metadata": {},
   "outputs": [],
   "source": [
    "import math\n",
    "\n",
    "def magnitude(v):\n",
    "    return math.sqrt(sum_of_squares(v))"
   ]
  },
  {
   "cell_type": "code",
   "execution_count": 10,
   "metadata": {},
   "outputs": [],
   "source": [
    "# Distance between two vectors\n",
    "\n",
    "def squared_distance(v, w):\n",
    "    \"\"\"(v_1 - w_1) ** 2 + ... + (v_n - w_n ** 2)\"\"\"\n",
    "    return sum_of_squares(vector_subtract(v, w))\n",
    "\n",
    "def vector_distance(v, w):\n",
    "    return math.sqrt(squared_distance(v, w))\n",
    "\n",
    "# OR\n",
    "\n",
    "def distance(v, w):\n",
    "    return magnitude(vector_subtract(v, w))"
   ]
  },
  {
   "cell_type": "markdown",
   "metadata": {},
   "source": [
    "Using\tlists\tas\tvectors\tis\tgreat\tfor\texposition\tbut\tterrible\tfor\tperformance.\n",
    "<br />\n",
    "In\tproduction\tcode,\tyou\twould\twant\tto\tuse\tthe\tNumPy\tlibrary,\twhich\tincludes\ta\thigh-performance\tarray\n",
    "class\twith\tall\tsorts\tof\tarithmetic\toperations\tincluded."
   ]
  },
  {
   "cell_type": "markdown",
   "metadata": {},
   "source": [
    "### Matrices"
   ]
  },
  {
   "cell_type": "code",
   "execution_count": 14,
   "metadata": {},
   "outputs": [
    {
     "data": {
      "text/plain": [
       "[[1, 0, 0, 0, 0],\n",
       " [0, 1, 0, 0, 0],\n",
       " [0, 0, 1, 0, 0],\n",
       " [0, 0, 0, 1, 0],\n",
       " [0, 0, 0, 0, 1]]"
      ]
     },
     "execution_count": 14,
     "metadata": {},
     "output_type": "execute_result"
    }
   ],
   "source": [
    "def shape(A):\n",
    "    num_rows = len(A)\n",
    "    num_cols = len(A[0])\n",
    "    return num_rows, num_cols\n",
    "    \n",
    "def get_row(A, i):\n",
    "    return A[i]\n",
    "\n",
    "def get_column(A, j):\n",
    "    return [A_i[j] for A_i in A]\n",
    "\n",
    "\n",
    "def make_matrix(num_rows, num_cols, entry_fn):\n",
    "    return [[entry_fn(i, j) for j in range(num_cols)] for i in range(num_rows)]\n",
    "\n",
    "# Identity matrix : Diagonals element are 1 rest 0\n",
    "def is_diagonal(i, j):\n",
    "    return 1 if i == j else 0\n",
    "\n",
    "identity_matrix = make_matrix(5, 5, is_diagonal)\n",
    "identity_matrix"
   ]
  },
  {
   "cell_type": "code",
   "execution_count": 15,
   "metadata": {},
   "outputs": [],
   "source": [
    "friendships = [(0,1), (0,2), (1,2), (1,3),(2,3),(3,4),(4,5),(5,6),(5,7),(6,8),(7,8),(8,9)]"
   ]
  },
  {
   "cell_type": "code",
   "execution_count": 16,
   "metadata": {},
   "outputs": [],
   "source": [
    "friendships = [[0,\t1,\t1,\t0,\t0,\t0,\t0,\t0,\t0,\t0],\t#\tuser\t0\n",
    "               [1,\t0,\t1,\t1,\t0,\t0,\t0,\t0,\t0,\t0],\t#\tuser\t1\n",
    "               [1,\t1,\t0,\t1,\t0,\t0,\t0,\t0,\t0,\t0],\t#\tuser\t2\n",
    "               [0,\t1,\t1,\t0,\t1,\t0,\t0,\t0,\t0,\t0],\t#\tuser\t3\n",
    "               [0,\t0,\t0,\t1,\t0,\t1,\t0,\t0,\t0,\t0],\t#\tuser\t4\n",
    "               [0,\t0,\t0,\t0,\t1,\t0,\t1,\t1,\t0,\t0],\t#\tuser\t5\n",
    "               [0,\t0,\t0,\t0,\t0,\t1,\t0,\t0,\t1,\t0],\t#\tuser\t6\n",
    "               [0,\t0,\t0,\t0,\t0,\t1,\t0,\t0,\t1,\t0],\t#\tuser\t7\n",
    "               [0,\t0,\t0,\t0,\t0,\t0,\t1,\t1,\t0,\t1],\t#\tuser\t8\n",
    "               [0,\t0,\t0,\t0,\t0,\t0,\t0,\t0,\t1,\t0]]\t#\tuser\t9"
   ]
  },
  {
   "cell_type": "code",
   "execution_count": 17,
   "metadata": {},
   "outputs": [
    {
     "data": {
      "text/plain": [
       "[4, 6, 7]"
      ]
     },
     "execution_count": 17,
     "metadata": {},
     "output_type": "execute_result"
    }
   ],
   "source": [
    "[i for i, is_friend in enumerate(friendships[5]) if is_friend]"
   ]
  },
  {
   "cell_type": "code",
   "execution_count": null,
   "metadata": {},
   "outputs": [],
   "source": []
  },
  {
   "cell_type": "code",
   "execution_count": null,
   "metadata": {},
   "outputs": [],
   "source": []
  },
  {
   "cell_type": "code",
   "execution_count": null,
   "metadata": {},
   "outputs": [],
   "source": []
  }
 ],
 "metadata": {
  "kernelspec": {
   "display_name": "Python 3",
   "language": "python",
   "name": "python3"
  },
  "language_info": {
   "codemirror_mode": {
    "name": "ipython",
    "version": 3
   },
   "file_extension": ".py",
   "mimetype": "text/x-python",
   "name": "python",
   "nbconvert_exporter": "python",
   "pygments_lexer": "ipython3",
   "version": "3.6.4"
  }
 },
 "nbformat": 4,
 "nbformat_minor": 2
}
